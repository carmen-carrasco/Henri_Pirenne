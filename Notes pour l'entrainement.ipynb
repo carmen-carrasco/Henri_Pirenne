{
 "cells": [
  {
   "cell_type": "markdown",
   "id": "e24fe506-e5c2-487e-8c5a-6379b29c89ef",
   "metadata": {},
   "source": [
    "# Notes sur l'entraînement, résultats"
   ]
  },
  {
   "cell_type": "code",
   "execution_count": null,
   "id": "12eb2a74-c0d1-44ee-8ac9-a0bcf4b08904",
   "metadata": {},
   "outputs": [],
   "source": []
  },
  {
   "cell_type": "code",
   "execution_count": null,
   "id": "d2e0d480-1b11-4c8d-bff0-61bac13b90ed",
   "metadata": {},
   "outputs": [],
   "source": []
  }
 ],
 "metadata": {
  "kernelspec": {
   "display_name": "Python 3 (ipykernel)",
   "language": "python",
   "name": "python3"
  },
  "language_info": {
   "codemirror_mode": {
    "name": "ipython",
    "version": 3
   },
   "file_extension": ".py",
   "mimetype": "text/x-python",
   "name": "python",
   "nbconvert_exporter": "python",
   "pygments_lexer": "ipython3",
   "version": "3.13.2"
  }
 },
 "nbformat": 4,
 "nbformat_minor": 5
}
