{
 "cells": [
  {
   "cell_type": "markdown",
   "id": "c8f3fa00-7587-4a92-b397-8c8c52e10c8c",
   "metadata": {},
   "source": [
    "## Analyse de résultats\n"
   ]
  },
  {
   "cell_type": "code",
   "execution_count": 10,
   "id": "cfb4f379-8767-4843-aac2-2be0a6bf8995",
   "metadata": {
    "scrolled": true
   },
   "outputs": [
    {
     "name": "stdout",
     "output_type": "stream",
     "text": [
      "Requirement already satisfied: evaluate in c:\\users\\admin\\appdata\\local\\programs\\python\\python313\\lib\\site-packages (0.4.5)\n",
      "Requirement already satisfied: datasets>=2.0.0 in c:\\users\\admin\\appdata\\local\\programs\\python\\python313\\lib\\site-packages (from evaluate) (4.0.0)\n",
      "Requirement already satisfied: numpy>=1.17 in c:\\users\\admin\\appdata\\local\\programs\\python\\python313\\lib\\site-packages (from evaluate) (2.1.2)\n",
      "Requirement already satisfied: dill in c:\\users\\admin\\appdata\\local\\programs\\python\\python313\\lib\\site-packages (from evaluate) (0.3.8)\n",
      "Requirement already satisfied: pandas in c:\\users\\admin\\appdata\\local\\programs\\python\\python313\\lib\\site-packages (from evaluate) (2.2.3)\n",
      "Requirement already satisfied: requests>=2.19.0 in c:\\users\\admin\\appdata\\local\\programs\\python\\python313\\lib\\site-packages (from evaluate) (2.32.3)\n",
      "Requirement already satisfied: tqdm>=4.62.1 in c:\\users\\admin\\appdata\\local\\programs\\python\\python313\\lib\\site-packages (from evaluate) (4.67.1)\n",
      "Requirement already satisfied: xxhash in c:\\users\\admin\\appdata\\local\\programs\\python\\python313\\lib\\site-packages (from evaluate) (3.5.0)\n",
      "Requirement already satisfied: multiprocess in c:\\users\\admin\\appdata\\local\\programs\\python\\python313\\lib\\site-packages (from evaluate) (0.70.16)\n",
      "Requirement already satisfied: fsspec>=2021.05.0 in c:\\users\\admin\\appdata\\local\\programs\\python\\python313\\lib\\site-packages (from fsspec[http]>=2021.05.0->evaluate) (2024.6.1)\n",
      "Requirement already satisfied: huggingface-hub>=0.7.0 in c:\\users\\admin\\appdata\\local\\programs\\python\\python313\\lib\\site-packages (from evaluate) (0.33.4)\n",
      "Requirement already satisfied: packaging in c:\\users\\admin\\appdata\\local\\programs\\python\\python313\\lib\\site-packages (from evaluate) (24.2)\n",
      "Requirement already satisfied: filelock in c:\\users\\admin\\appdata\\local\\programs\\python\\python313\\lib\\site-packages (from datasets>=2.0.0->evaluate) (3.13.1)\n",
      "Requirement already satisfied: pyarrow>=15.0.0 in c:\\users\\admin\\appdata\\local\\programs\\python\\python313\\lib\\site-packages (from datasets>=2.0.0->evaluate) (21.0.0)\n",
      "Requirement already satisfied: pyyaml>=5.1 in c:\\users\\admin\\appdata\\local\\programs\\python\\python313\\lib\\site-packages (from datasets>=2.0.0->evaluate) (6.0.2)\n",
      "Requirement already satisfied: aiohttp!=4.0.0a0,!=4.0.0a1 in c:\\users\\admin\\appdata\\local\\programs\\python\\python313\\lib\\site-packages (from fsspec[http]>=2021.05.0->evaluate) (3.11.18)\n",
      "Requirement already satisfied: aiohappyeyeballs>=2.3.0 in c:\\users\\admin\\appdata\\local\\programs\\python\\python313\\lib\\site-packages (from aiohttp!=4.0.0a0,!=4.0.0a1->fsspec[http]>=2021.05.0->evaluate) (2.6.1)\n",
      "Requirement already satisfied: aiosignal>=1.1.2 in c:\\users\\admin\\appdata\\local\\programs\\python\\python313\\lib\\site-packages (from aiohttp!=4.0.0a0,!=4.0.0a1->fsspec[http]>=2021.05.0->evaluate) (1.3.2)\n",
      "Requirement already satisfied: attrs>=17.3.0 in c:\\users\\admin\\appdata\\local\\programs\\python\\python313\\lib\\site-packages (from aiohttp!=4.0.0a0,!=4.0.0a1->fsspec[http]>=2021.05.0->evaluate) (25.3.0)\n",
      "Requirement already satisfied: frozenlist>=1.1.1 in c:\\users\\admin\\appdata\\local\\programs\\python\\python313\\lib\\site-packages (from aiohttp!=4.0.0a0,!=4.0.0a1->fsspec[http]>=2021.05.0->evaluate) (1.6.0)\n",
      "Requirement already satisfied: multidict<7.0,>=4.5 in c:\\users\\admin\\appdata\\local\\programs\\python\\python313\\lib\\site-packages (from aiohttp!=4.0.0a0,!=4.0.0a1->fsspec[http]>=2021.05.0->evaluate) (6.4.3)\n",
      "Requirement already satisfied: propcache>=0.2.0 in c:\\users\\admin\\appdata\\local\\programs\\python\\python313\\lib\\site-packages (from aiohttp!=4.0.0a0,!=4.0.0a1->fsspec[http]>=2021.05.0->evaluate) (0.3.1)\n",
      "Requirement already satisfied: yarl<2.0,>=1.17.0 in c:\\users\\admin\\appdata\\local\\programs\\python\\python313\\lib\\site-packages (from aiohttp!=4.0.0a0,!=4.0.0a1->fsspec[http]>=2021.05.0->evaluate) (1.20.0)\n",
      "Requirement already satisfied: idna>=2.0 in c:\\users\\admin\\appdata\\local\\programs\\python\\python313\\lib\\site-packages (from yarl<2.0,>=1.17.0->aiohttp!=4.0.0a0,!=4.0.0a1->fsspec[http]>=2021.05.0->evaluate) (3.10)\n",
      "Requirement already satisfied: typing-extensions>=3.7.4.3 in c:\\users\\admin\\appdata\\local\\programs\\python\\python313\\lib\\site-packages (from huggingface-hub>=0.7.0->evaluate) (4.13.0)\n",
      "Requirement already satisfied: charset-normalizer<4,>=2 in c:\\users\\admin\\appdata\\local\\programs\\python\\python313\\lib\\site-packages (from requests>=2.19.0->evaluate) (3.4.1)\n",
      "Requirement already satisfied: urllib3<3,>=1.21.1 in c:\\users\\admin\\appdata\\local\\programs\\python\\python313\\lib\\site-packages (from requests>=2.19.0->evaluate) (2.3.0)\n",
      "Requirement already satisfied: certifi>=2017.4.17 in c:\\users\\admin\\appdata\\local\\programs\\python\\python313\\lib\\site-packages (from requests>=2.19.0->evaluate) (2025.1.31)\n",
      "Requirement already satisfied: colorama in c:\\users\\admin\\appdata\\local\\programs\\python\\python313\\lib\\site-packages (from tqdm>=4.62.1->evaluate) (0.4.6)\n",
      "Requirement already satisfied: python-dateutil>=2.8.2 in c:\\users\\admin\\appdata\\local\\programs\\python\\python313\\lib\\site-packages (from pandas->evaluate) (2.9.0.post0)\n",
      "Requirement already satisfied: pytz>=2020.1 in c:\\users\\admin\\appdata\\local\\programs\\python\\python313\\lib\\site-packages (from pandas->evaluate) (2025.2)\n",
      "Requirement already satisfied: tzdata>=2022.7 in c:\\users\\admin\\appdata\\local\\programs\\python\\python313\\lib\\site-packages (from pandas->evaluate) (2025.2)\n",
      "Requirement already satisfied: six>=1.5 in c:\\users\\admin\\appdata\\local\\programs\\python\\python313\\lib\\site-packages (from python-dateutil>=2.8.2->pandas->evaluate) (1.17.0)\n",
      "Collecting scikit-learn\n",
      "  Downloading scikit_learn-1.7.1-cp313-cp313-win_amd64.whl.metadata (11 kB)\n",
      "Requirement already satisfied: numpy>=1.22.0 in c:\\users\\admin\\appdata\\local\\programs\\python\\python313\\lib\\site-packages (from scikit-learn) (2.1.2)\n",
      "Requirement already satisfied: scipy>=1.8.0 in c:\\users\\admin\\appdata\\local\\programs\\python\\python313\\lib\\site-packages (from scikit-learn) (1.15.2)\n",
      "Requirement already satisfied: joblib>=1.2.0 in c:\\users\\admin\\appdata\\local\\programs\\python\\python313\\lib\\site-packages (from scikit-learn) (1.5.1)\n",
      "Collecting threadpoolctl>=3.1.0 (from scikit-learn)\n",
      "  Downloading threadpoolctl-3.6.0-py3-none-any.whl.metadata (13 kB)\n",
      "Downloading scikit_learn-1.7.1-cp313-cp313-win_amd64.whl (8.7 MB)\n",
      "   ---------------------------------------- 0.0/8.7 MB ? eta -:--:--\n",
      "   ------------- -------------------------- 2.9/8.7 MB 15.0 MB/s eta 0:00:01\n",
      "   --------------------------- ------------ 6.0/8.7 MB 15.1 MB/s eta 0:00:01\n",
      "   ---------------------------------------  8.7/8.7 MB 14.5 MB/s eta 0:00:01\n",
      "   ---------------------------------------- 8.7/8.7 MB 13.9 MB/s eta 0:00:00\n",
      "Downloading threadpoolctl-3.6.0-py3-none-any.whl (18 kB)\n",
      "Installing collected packages: threadpoolctl, scikit-learn\n",
      "\n",
      "   -------------------- ------------------- 1/2 [scikit-learn]\n",
      "   -------------------- ------------------- 1/2 [scikit-learn]\n",
      "   -------------------- ------------------- 1/2 [scikit-learn]\n",
      "   -------------------- ------------------- 1/2 [scikit-learn]\n",
      "   -------------------- ------------------- 1/2 [scikit-learn]\n",
      "   -------------------- ------------------- 1/2 [scikit-learn]\n",
      "   -------------------- ------------------- 1/2 [scikit-learn]\n",
      "   -------------------- ------------------- 1/2 [scikit-learn]\n",
      "   -------------------- ------------------- 1/2 [scikit-learn]\n",
      "   -------------------- ------------------- 1/2 [scikit-learn]\n",
      "   -------------------- ------------------- 1/2 [scikit-learn]\n",
      "   -------------------- ------------------- 1/2 [scikit-learn]\n",
      "   -------------------- ------------------- 1/2 [scikit-learn]\n",
      "   -------------------- ------------------- 1/2 [scikit-learn]\n",
      "   -------------------- ------------------- 1/2 [scikit-learn]\n",
      "   -------------------- ------------------- 1/2 [scikit-learn]\n",
      "   -------------------- ------------------- 1/2 [scikit-learn]\n",
      "   -------------------- ------------------- 1/2 [scikit-learn]\n",
      "   -------------------- ------------------- 1/2 [scikit-learn]\n",
      "   -------------------- ------------------- 1/2 [scikit-learn]\n",
      "   -------------------- ------------------- 1/2 [scikit-learn]\n",
      "   -------------------- ------------------- 1/2 [scikit-learn]\n",
      "   -------------------- ------------------- 1/2 [scikit-learn]\n",
      "   -------------------- ------------------- 1/2 [scikit-learn]\n",
      "   -------------------- ------------------- 1/2 [scikit-learn]\n",
      "   -------------------- ------------------- 1/2 [scikit-learn]\n",
      "   -------------------- ------------------- 1/2 [scikit-learn]\n",
      "   -------------------- ------------------- 1/2 [scikit-learn]\n",
      "   -------------------- ------------------- 1/2 [scikit-learn]\n",
      "   -------------------- ------------------- 1/2 [scikit-learn]\n",
      "   -------------------- ------------------- 1/2 [scikit-learn]\n",
      "   -------------------- ------------------- 1/2 [scikit-learn]\n",
      "   -------------------- ------------------- 1/2 [scikit-learn]\n",
      "   -------------------- ------------------- 1/2 [scikit-learn]\n",
      "   -------------------- ------------------- 1/2 [scikit-learn]\n",
      "   -------------------- ------------------- 1/2 [scikit-learn]\n",
      "   -------------------- ------------------- 1/2 [scikit-learn]\n",
      "   -------------------- ------------------- 1/2 [scikit-learn]\n",
      "   -------------------- ------------------- 1/2 [scikit-learn]\n",
      "   -------------------- ------------------- 1/2 [scikit-learn]\n",
      "   -------------------- ------------------- 1/2 [scikit-learn]\n",
      "   -------------------- ------------------- 1/2 [scikit-learn]\n",
      "   -------------------- ------------------- 1/2 [scikit-learn]\n",
      "   -------------------- ------------------- 1/2 [scikit-learn]\n",
      "   -------------------- ------------------- 1/2 [scikit-learn]\n",
      "   -------------------- ------------------- 1/2 [scikit-learn]\n",
      "   -------------------- ------------------- 1/2 [scikit-learn]\n",
      "   -------------------- ------------------- 1/2 [scikit-learn]\n",
      "   -------------------- ------------------- 1/2 [scikit-learn]\n",
      "   -------------------- ------------------- 1/2 [scikit-learn]\n",
      "   -------------------- ------------------- 1/2 [scikit-learn]\n",
      "   -------------------- ------------------- 1/2 [scikit-learn]\n",
      "   -------------------- ------------------- 1/2 [scikit-learn]\n",
      "   -------------------- ------------------- 1/2 [scikit-learn]\n",
      "   -------------------- ------------------- 1/2 [scikit-learn]\n",
      "   -------------------- ------------------- 1/2 [scikit-learn]\n",
      "   -------------------- ------------------- 1/2 [scikit-learn]\n",
      "   -------------------- ------------------- 1/2 [scikit-learn]\n",
      "   -------------------- ------------------- 1/2 [scikit-learn]\n",
      "   -------------------- ------------------- 1/2 [scikit-learn]\n",
      "   -------------------- ------------------- 1/2 [scikit-learn]\n",
      "   -------------------- ------------------- 1/2 [scikit-learn]\n",
      "   -------------------- ------------------- 1/2 [scikit-learn]\n",
      "   -------------------- ------------------- 1/2 [scikit-learn]\n",
      "   -------------------- ------------------- 1/2 [scikit-learn]\n",
      "   -------------------- ------------------- 1/2 [scikit-learn]\n",
      "   -------------------- ------------------- 1/2 [scikit-learn]\n",
      "   -------------------- ------------------- 1/2 [scikit-learn]\n",
      "   -------------------- ------------------- 1/2 [scikit-learn]\n",
      "   -------------------- ------------------- 1/2 [scikit-learn]\n",
      "   -------------------- ------------------- 1/2 [scikit-learn]\n",
      "   -------------------- ------------------- 1/2 [scikit-learn]\n",
      "   -------------------- ------------------- 1/2 [scikit-learn]\n",
      "   -------------------- ------------------- 1/2 [scikit-learn]\n",
      "   -------------------- ------------------- 1/2 [scikit-learn]\n",
      "   -------------------- ------------------- 1/2 [scikit-learn]\n",
      "   -------------------- ------------------- 1/2 [scikit-learn]\n",
      "   -------------------- ------------------- 1/2 [scikit-learn]\n",
      "   -------------------- ------------------- 1/2 [scikit-learn]\n",
      "   -------------------- ------------------- 1/2 [scikit-learn]\n",
      "   -------------------- ------------------- 1/2 [scikit-learn]\n",
      "   -------------------- ------------------- 1/2 [scikit-learn]\n",
      "   -------------------- ------------------- 1/2 [scikit-learn]\n",
      "   -------------------- ------------------- 1/2 [scikit-learn]\n",
      "   -------------------- ------------------- 1/2 [scikit-learn]\n",
      "   ---------------------------------------- 2/2 [scikit-learn]\n",
      "\n",
      "Successfully installed scikit-learn-1.7.1 threadpoolctl-3.6.0\n"
     ]
    }
   ],
   "source": [
    "!pip install evaluate\n",
    "!pip install scikit-learn\n",
    "!pip install matplotlib"
   ]
  },
  {
   "cell_type": "markdown",
   "id": "039d9750-5efe-4e53-8f77-ec0b3c066b8c",
   "metadata": {},
   "source": [
    "## 1. Manuscrit corrigé à partir du modèle finetuné"
   ]
  },
  {
   "cell_type": "code",
   "execution_count": 18,
   "id": "397e64a4-cd16-4077-9eb2-36fb80b216c2",
   "metadata": {},
   "outputs": [
    {
     "name": "stdout",
     "output_type": "stream",
     "text": [
      "Corrected vs Ground Truth:\n",
      "WER: 0.2782608695652174\n",
      "CER: 0.1556342261705965\n"
     ]
    }
   ],
   "source": [
    "# Corrected vs Ground Truth\n",
    "from evaluate import load\n",
    "import os\n",
    "import re\n",
    "\n",
    "# load\n",
    "def load_text_from_alto(folder):\n",
    "    alto_files = sorted(f for f in os.listdir(folder) if f.endswith('.xml'))\n",
    "    text = []\n",
    "    for fn in alto_files:\n",
    "        with open(os.path.join(folder, fn), encoding='utf-8') as f:\n",
    "            content = f.read()\n",
    "            strings = re.findall(r'CONTENT=\"(.*?)\"', content)\n",
    "            text.extend(strings)\n",
    "    return text\n",
    "\n",
    "# dirs\n",
    "ground_truth_folder = \"manuscript_groundtruth\"\n",
    "corrected_folder    = \"manuscript_final\"\n",
    "\n",
    "# load\n",
    "ref = load_text_from_alto(ground_truth_folder)       # list of strings\n",
    "cor = load_text_from_alto(corrected_folder)\n",
    "\n",
    "wer = load(\"wer\")\n",
    "cer = load(\"cer\")\n",
    "\n",
    "# join strings\n",
    "predictions = [\" \".join(cor)]\n",
    "references  = [\" \".join(ref)]\n",
    "\n",
    "wer_score = wer.compute(predictions=predictions, references=references)\n",
    "cer_score = cer.compute(predictions=predictions, references=references)\n",
    "\n",
    "print(\"Corrected vs Ground Truth:\")\n",
    "print(f\"WER: {wer_score}\")\n",
    "print(f\"CER: {cer_score}\")\n"
   ]
  },
  {
   "cell_type": "markdown",
   "id": "d3fdcb91-6733-40dc-b3ce-144e5765f475",
   "metadata": {},
   "source": [
    "V6: (4ème version - correction CSV- distance 7, différence caractères 4)\n",
    "Corrected vs Ground Truth:\n",
    "WER: 0.2782608695652174\n",
    "CER: 0.1556342261705965"
   ]
  },
  {
   "cell_type": "markdown",
   "id": "d713a355-e0cc-4c72-9371-8609e177c932",
   "metadata": {},
   "source": [
    "V6: (3ème version - correction CSV- distance 6)\n",
    "Corrected vs Ground Truth:\n",
    "WER: 0.2787185354691076\n",
    "CER: 0.15623538841760737"
   ]
  },
  {
   "cell_type": "markdown",
   "id": "8872eccb-172c-47f6-87bc-8256b49fc649",
   "metadata": {},
   "source": [
    "V6: (2ème version - correction CSV- distance 5)\n",
    "Corrected vs Ground Truth:\n",
    "WER: 0.280091533180778\n",
    "CER: 0.1569033464698417"
   ]
  },
  {
   "cell_type": "markdown",
   "id": "13e02c35-4049-4215-be95-2b09c819869f",
   "metadata": {},
   "source": [
    "V6: (1ère version - correction CSV- distance 4)\n",
    "Corrected vs Ground Truth:\n",
    "WER: 0.28421052631578947\n",
    "CER: 0.1598423618996727"
   ]
  },
  {
   "cell_type": "markdown",
   "id": "a212e619-d3ec-4473-bbc5-457656ae5aa2",
   "metadata": {},
   "source": [
    "Avec V5: Corrected vs Ground Truth:\n",
    "WER: 0.32051282051282054\n",
    "CER: 0.16265865063460253"
   ]
  },
  {
   "cell_type": "code",
   "execution_count": 19,
   "id": "e308fbe8-f2c6-4dc1-bfe4-00607b94a094",
   "metadata": {},
   "outputs": [
    {
     "name": "stdout",
     "output_type": "stream",
     "text": [
      "Corrected vs Ground Truth:\n",
      "WER: 0.27022900763358776\n",
      "CER: 0.1576757427549456\n"
     ]
    }
   ],
   "source": [
    "# Corrected vs Ground Truth - without footnotes\n",
    "from evaluate import load\n",
    "import os\n",
    "import re\n",
    "\n",
    "# load\n",
    "def load_text_from_alto(folder):\n",
    "    alto_files = sorted(f for f in os.listdir(folder) if f.endswith('.xml'))\n",
    "    text = []\n",
    "    for fn in alto_files:\n",
    "        with open(os.path.join(folder, fn), encoding='utf-8') as f:\n",
    "            content = f.read()\n",
    "            strings = re.findall(r'CONTENT=\"(.*?)\"', content)\n",
    "            text.extend(strings)\n",
    "    return text\n",
    "\n",
    "# dirs\n",
    "ground_truth_folder = \"manuscript_groundtruth_nofootnotes\"\n",
    "corrected_folder    = \"manuscript_final_nofootnotes\"\n",
    "\n",
    "# load\n",
    "ref = load_text_from_alto(ground_truth_folder)       # list of strings\n",
    "cor = load_text_from_alto(corrected_folder)\n",
    "\n",
    "wer = load(\"wer\")\n",
    "cer = load(\"cer\")\n",
    "\n",
    "# join strings\n",
    "predictions = [\" \".join(cor)]\n",
    "references  = [\" \".join(ref)]\n",
    "\n",
    "wer_score = wer.compute(predictions=predictions, references=references)\n",
    "cer_score = cer.compute(predictions=predictions, references=references)\n",
    "\n",
    "print(\"Corrected vs Ground Truth:\")\n",
    "print(f\"WER: {wer_score}\")\n",
    "print(f\"CER: {cer_score}\")"
   ]
  },
  {
   "cell_type": "code",
   "execution_count": 17,
   "id": "4b0eef1c-fd8c-402d-b7db-cf15880f2063",
   "metadata": {},
   "outputs": [
    {
     "name": "stdout",
     "output_type": "stream",
     "text": [
      "HTR vs Ground Truth:\n",
      "WER: 0.6054919908466819\n",
      "CER: 0.26591410059448267\n"
     ]
    }
   ],
   "source": [
    "# HTR vs Ground Truth\n",
    "from evaluate import load\n",
    "import os\n",
    "import re\n",
    "\n",
    "# load\n",
    "def load_text_from_alto(folder):\n",
    "    alto_files = sorted(f for f in os.listdir(folder) if f.endswith('.xml'))\n",
    "    text = []\n",
    "    for fn in alto_files:\n",
    "        with open(os.path.join(folder, fn), encoding='utf-8') as f:\n",
    "            content = f.read()\n",
    "            strings = re.findall(r'CONTENT=\"(.*?)\"', content)\n",
    "            text.extend(strings)\n",
    "    return text\n",
    "\n",
    "# dirs\n",
    "ground_truth_folder = \"manuscript_groundtruth\"\n",
    "htr_folder          = \"manuscript_htr24\"\n",
    "\n",
    "# load\n",
    "ref = load_text_from_alto(ground_truth_folder)        # list of strings\n",
    "htr = load_text_from_alto(htr_folder)\n",
    "\n",
    "wer = load(\"wer\")\n",
    "cer = load(\"cer\")\n",
    "\n",
    "# join strings\n",
    "predictions = [\" \".join(htr)]\n",
    "references  = [\" \".join(ref)]\n",
    "\n",
    "wer_score = wer.compute(predictions=predictions, references=references)\n",
    "cer_score = cer.compute(predictions=predictions, references=references)\n",
    "\n",
    "print(\"HTR vs Ground Truth:\")\n",
    "print(f\"WER: {wer_score}\")\n",
    "print(f\"CER: {cer_score}\")\n"
   ]
  },
  {
   "cell_type": "code",
   "execution_count": 20,
   "id": "d105b135-ba2f-4cec-9c90-603010638a67",
   "metadata": {},
   "outputs": [
    {
     "data": {
      "image/png": "[encoded data removed]",
      "text/plain": [
       "<Figure size 640x480 with 1 Axes>"
      ]
     },
     "metadata": {},
     "output_type": "display_data"
    }
   ],
   "source": [
    "# Graphic\n",
    "\n",
    "import matplotlib.pyplot as plt\n",
    "import numpy as np\n",
    "\n",
    "methods = [\"CER\", \"WER\"]\n",
    "Finetuned = [26.59, 60.54]\n",
    "Corrected = [15.56, 27.82]\n",
    "\n",
    "x = np.arange(len(methods))\n",
    "width = 0.35\n",
    "\n",
    "fig, ax = plt.subplots()\n",
    "ax.bar(x - width/2, Finetuned, width, label=\"Modèle finetuné\")\n",
    "ax.bar(x + width/2, Corrected, width, label=\"Version corrigée\")\n",
    "\n",
    "ax.set_ylabel(\"Taux (%)\")\n",
    "ax.set_title(\"Résultats CER et WER du modèle finetuné\")\n",
    "ax.set_xticks(x)\n",
    "ax.set_xticklabels(methods)\n",
    "ax.legend()\n",
    "\n",
    "plt.tight_layout()\n",
    "\n",
    "plt.savefig(\"cer_wer_far.png\", dpi=300, bbox_inches=\"tight\")\n",
    "\n",
    "plt.show()"
   ]
  },
  {
   "cell_type": "code",
   "execution_count": 25,
   "id": "da06df4c-9628-4d90-b6cf-678f66650527",
   "metadata": {},
   "outputs": [
    {
     "name": "stdout",
     "output_type": "stream",
     "text": [
      "54.04691113313511 %\n"
     ]
    }
   ],
   "source": [
    "# Pourcentages \n",
    "\n",
    "initial = float(60.54)\n",
    "final = float(27.82)\n",
    "\n",
    "amélioration = ((initial - final) / initial) * 100\n",
    "\n",
    "print(amélioration, \"%\")\n"
   ]
  },
  {
   "cell_type": "markdown",
   "id": "fea28c22-5259-4203-bd06-4d4be1b7cea4",
   "metadata": {},
   "source": [
    "Amélioration  \n",
    "CER: 41 %  \n",
    "WER: 54 %"
   ]
  },
  {
   "cell_type": "code",
   "execution_count": null,
   "id": "64cd3f96-95c5-4017-9ffe-697611cbe9ca",
   "metadata": {},
   "outputs": [],
   "source": []
  },
  {
   "cell_type": "code",
   "execution_count": 15,
   "id": "29437f62-565b-4a70-abcd-76c5fa861044",
   "metadata": {},
   "outputs": [
    {
     "name": "stdout",
     "output_type": "stream",
     "text": [
      "Corrected vs Ground Truth:\n",
      "WER: 0.2453789279112754\n",
      "CER: 0.1260784016951718\n"
     ]
    }
   ],
   "source": [
    "# Sans les mots barrés\n",
    "# Corrected vs Ground Truth\n",
    "\n",
    "from evaluate import load\n",
    "import os\n",
    "import re\n",
    "\n",
    "def clean_text(lines):\n",
    "    cleaned = []\n",
    "    for line in lines:\n",
    "        line = re.sub(r\"<[^>]+>\", \"\", line)\n",
    "        line = re.sub(r\"[.,;!?“”\\\"«»()\\[\\]…]\", \"\", line)\n",
    "        cleaned.append(line.strip())\n",
    "    return cleaned\n",
    "\n",
    "def load_text_from_alto(folder):\n",
    "    alto_files = sorted(f for f in os.listdir(folder) if f.endswith('.xml'))\n",
    "    text = []\n",
    "    for fn in alto_files:\n",
    "        with open(os.path.join(folder, fn), encoding='utf-8') as f:\n",
    "            content = f.read()\n",
    "            strings = re.findall(r'CONTENT=\"(.*?)\"', content)\n",
    "            text.extend(strings)\n",
    "    return text\n",
    "\n",
    "ground_truth_folder = \"manuscript_groundtruth\"\n",
    "corrected_folder    = \"manuscript_final\"\n",
    "\n",
    "raw_ref = load_text_from_alto(ground_truth_folder)\n",
    "raw_cor = load_text_from_alto(corrected_folder)\n",
    "\n",
    "ref = clean_text(raw_ref)\n",
    "cor = clean_text(raw_cor)\n",
    "\n",
    "wer = load(\"wer\")\n",
    "cer = load(\"cer\")\n",
    "\n",
    "predictions = [\" \".join(cor)]\n",
    "references  = [\" \".join(ref)]\n",
    "\n",
    "wer_score = wer.compute(predictions=predictions, references=references)\n",
    "cer_score = cer.compute(predictions=predictions, references=references)\n",
    "\n",
    "print(\"Corrected vs Ground Truth:\")\n",
    "print(f\"WER: {wer_score}\")\n",
    "print(f\"CER: {cer_score}\")\n"
   ]
  },
  {
   "cell_type": "markdown",
   "id": "84c4c2c0-45e4-46bf-a1bf-3f19c8c62d83",
   "metadata": {},
   "source": [
    "Corrected vs Ground Truth:\n",
    "WER: 0.06239460370994941\n",
    "CER: 0.02585258525852585"
   ]
  },
  {
   "cell_type": "code",
   "execution_count": 16,
   "id": "047400ea-1f56-4bb5-a532-2ca9e3cb5ce3",
   "metadata": {},
   "outputs": [
    {
     "name": "stdout",
     "output_type": "stream",
     "text": [
      "HTR vs Ground Truth:\n",
      "WER: 0.2675600739371534\n",
      "CER: 0.21174511881337976\n"
     ]
    }
   ],
   "source": [
    "# Sans les mots barrés\n",
    "# HTR vs Ground Truth\n",
    "\n",
    "from evaluate import load\n",
    "import os\n",
    "import re\n",
    "\n",
    "def clean_text(lines):\n",
    "    cleaned = []\n",
    "    for line in lines:\n",
    "        line = re.sub(r\"<[^>]+>\", \"\", line)\n",
    "        line = re.sub(r\"[.,;!?“”\\\"«»()\\[\\]…]\", \"\", line)\n",
    "        cleaned.append(line.strip())\n",
    "    return cleaned\n",
    "\n",
    "def load_text_from_alto(folder):\n",
    "    alto_files = sorted(f for f in os.listdir(folder) if f.endswith('.xml'))\n",
    "    text = []\n",
    "    for fn in alto_files:\n",
    "        with open(os.path.join(folder, fn), encoding='utf-8') as f:\n",
    "            content = f.read()\n",
    "            strings = re.findall(r'CONTENT=\"(.*?)\"', content)\n",
    "            text.extend(strings)\n",
    "    return text\n",
    "\n",
    "ground_truth_folder = \"manuscript_groundtruth\"\n",
    "htr_folder          = \"manuscript_htr17\"\n",
    "\n",
    "raw_ref = load_text_from_alto(ground_truth_folder)\n",
    "raw_htr = load_text_from_alto(htr_folder)\n",
    "\n",
    "ref = clean_text(raw_ref)\n",
    "htr = clean_text(raw_htr)\n",
    "\n",
    "wer = load(\"wer\")\n",
    "cer = load(\"cer\")\n",
    "\n",
    "predictions = [\" \".join(htr)]\n",
    "references  = [\" \".join(ref)]\n",
    "\n",
    "wer_score = wer.compute(predictions=predictions, references=references)\n",
    "cer_score = cer.compute(predictions=predictions, references=references)\n",
    "\n",
    "print(\"HTR vs Ground Truth:\")\n",
    "print(f\"WER: {wer_score}\")\n",
    "print(f\"CER: {cer_score}\")"
   ]
  },
  {
   "cell_type": "code",
   "execution_count": 46,
   "id": "aa3ec80b-6f3f-4907-b7d6-d461ffdbb2ec",
   "metadata": {},
   "outputs": [
    {
     "data": {
      "image/png": "[encoded data removed]",
      "text/plain": [
       "<Figure size 640x480 with 1 Axes>"
      ]
     },
     "metadata": {},
     "output_type": "display_data"
    }
   ],
   "source": [
    "# Graphic\n",
    "\n",
    "import matplotlib.pyplot as plt\n",
    "import numpy as np\n",
    "\n",
    "# Données\n",
    "methods = [\"Modèle finetuné\", \"Postcorrection\"]\n",
    "methods = [\"Modèle finetuné\", \"Postcorrection\"]\n",
    "CER = [23.6, 17.36]\n",
    "WER = [58.18, 35.84]\n",
    "\n",
    "x = np.arange(len(methods))\n",
    "width = 0.35\n",
    "\n",
    "fig, ax = plt.subplots()\n",
    "ax.bar(x - width/2, CER, width, label=\"CER\")\n",
    "ax.bar(x + width/2, WER, width, label=\"WER\")\n",
    "\n",
    "ax.set_ylabel(\"Taux (%)\")\n",
    "ax.set_title(\"Résultats CER et WER du modèle finetuné (sans ratures)\")\n",
    "ax.set_xticks(x)\n",
    "ax.set_xticklabels(methods)\n",
    "ax.legend()\n",
    "\n",
    "plt.tight_layout()\n",
    "\n",
    "plt.savefig(\"cer_wer_fsr.png\", dpi=300, bbox_inches=\"tight\")\n",
    "\n",
    "plt.show()"
   ]
  },
  {
   "cell_type": "markdown",
   "id": "dadf3bce-b634-4575-98e6-cce9c8285376",
   "metadata": {},
   "source": [
    "## 2. Corpus corrigé à partir du modèle généraliste"
   ]
  },
  {
   "cell_type": "code",
   "execution_count": 39,
   "id": "0ae03d6e-8396-4130-96c5-5f642a276bc1",
   "metadata": {},
   "outputs": [
    {
     "name": "stdout",
     "output_type": "stream",
     "text": [
      "Corrected vs Ground Truth:\n",
      "WER: 0.5730645900137425\n",
      "CER: 0.3736111111111111\n"
     ]
    }
   ],
   "source": [
    "# Corrected vs Ground Truth\n",
    "from evaluate import load\n",
    "import os\n",
    "import re\n",
    "\n",
    "# load\n",
    "def load_text_from_alto(folder):\n",
    "    alto_files = sorted(f for f in os.listdir(folder) if f.endswith('.xml'))\n",
    "    text = []\n",
    "    for fn in alto_files:\n",
    "        with open(os.path.join(folder, fn), encoding='utf-8') as f:\n",
    "            content = f.read()\n",
    "            strings = re.findall(r'CONTENT=\"(.*?)\"', content)\n",
    "            text.extend(strings)\n",
    "    return text\n",
    "\n",
    "# dirs\n",
    "ground_truth_folder = \"manuscript_groundtruth\"\n",
    "corrected_folder    = \"manuscript_final_généraliste\"\n",
    "\n",
    "# load\n",
    "ref = load_text_from_alto(ground_truth_folder)       # list of strings\n",
    "cor = load_text_from_alto(corrected_folder)\n",
    "\n",
    "wer = load(\"wer\")\n",
    "cer = load(\"cer\")\n",
    "\n",
    "# join strings\n",
    "predictions = [\" \".join(cor)]\n",
    "references  = [\" \".join(ref)]\n",
    "\n",
    "wer_score = wer.compute(predictions=predictions, references=references)\n",
    "cer_score = cer.compute(predictions=predictions, references=references)\n",
    "\n",
    "print(\"Corrected vs Ground Truth:\")\n",
    "print(f\"WER: {wer_score}\")\n",
    "print(f\"CER: {cer_score}\")\n"
   ]
  },
  {
   "cell_type": "code",
   "execution_count": 40,
   "id": "60638761-0175-461a-a78d-61918514a15e",
   "metadata": {},
   "outputs": [
    {
     "name": "stdout",
     "output_type": "stream",
     "text": [
      "HTR vs Ground Truth:\n",
      "WER: 0.8873110398534128\n",
      "CER: 0.4630952380952381\n"
     ]
    }
   ],
   "source": [
    "# HTR vs Ground Truth\n",
    "from evaluate import load\n",
    "import os\n",
    "import re\n",
    "\n",
    "# load\n",
    "def load_text_from_alto(folder):\n",
    "    alto_files = sorted(f for f in os.listdir(folder) if f.endswith('.xml'))\n",
    "    text = []\n",
    "    for fn in alto_files:\n",
    "        with open(os.path.join(folder, fn), encoding='utf-8') as f:\n",
    "            content = f.read()\n",
    "            strings = re.findall(r'CONTENT=\"(.*?)\"', content)\n",
    "            text.extend(strings)\n",
    "    return text\n",
    "\n",
    "# dirs\n",
    "ground_truth_folder = \"manuscript_groundtruth\"\n",
    "htr_folder          = \"manuscript_htr_généraliste\"\n",
    "\n",
    "# load\n",
    "ref = load_text_from_alto(ground_truth_folder)        # list of strings\n",
    "htr = load_text_from_alto(htr_folder)\n",
    "\n",
    "wer = load(\"wer\")\n",
    "cer = load(\"cer\")\n",
    "\n",
    "# join strings\n",
    "predictions = [\" \".join(htr)]\n",
    "references  = [\" \".join(ref)]\n",
    "\n",
    "wer_score = wer.compute(predictions=predictions, references=references)\n",
    "cer_score = cer.compute(predictions=predictions, references=references)\n",
    "\n",
    "print(\"HTR vs Ground Truth:\")\n",
    "print(f\"WER: {wer_score}\")\n",
    "print(f\"CER: {cer_score}\")\n"
   ]
  },
  {
   "cell_type": "code",
   "execution_count": 47,
   "id": "b32e3bde-97d2-47c0-96fe-4e8cc1b266d2",
   "metadata": {},
   "outputs": [
    {
     "data": {
      "image/png": "[encoded data removed]",
      "text/plain": [
       "<Figure size 640x480 with 1 Axes>"
      ]
     },
     "metadata": {},
     "output_type": "display_data"
    }
   ],
   "source": [
    "# Graphic\n",
    "\n",
    "import matplotlib.pyplot as plt\n",
    "import numpy as np\n",
    "\n",
    "# Données\n",
    "methods = [\"Modèle généraliste\", \"Postcorrection\"]\n",
    "CER = [46.3, 37.36]\n",
    "WER = [88.73, 57.3]\n",
    "\n",
    "x = np.arange(len(methods))\n",
    "width = 0.35\n",
    "\n",
    "fig, ax = plt.subplots()\n",
    "ax.bar(x - width/2, CER, width, label=\"CER\")\n",
    "ax.bar(x + width/2, WER, width, label=\"WER\")\n",
    "\n",
    "ax.set_ylabel(\"Taux (%)\")\n",
    "ax.set_title(\"Résultats CER et WER du modèle généraliste\")\n",
    "ax.set_xticks(x)\n",
    "ax.set_xticklabels(methods)\n",
    "ax.legend()\n",
    "\n",
    "plt.tight_layout()\n",
    "\n",
    "plt.savefig(\"cer_wer_gar.png\", dpi=300, bbox_inches=\"tight\")\n",
    "\n",
    "plt.show()"
   ]
  },
  {
   "cell_type": "code",
   "execution_count": 48,
   "id": "1933cd2a-8999-4ef8-9f98-021075110936",
   "metadata": {},
   "outputs": [
    {
     "name": "stdout",
     "output_type": "stream",
     "text": [
      "Corrected vs Ground Truth:\n",
      "WER: 0.5527289546716003\n",
      "CER: 0.36023400585014625\n"
     ]
    }
   ],
   "source": [
    "# Sans les mots barrés\n",
    "# Corrected vs Ground Truth\n",
    "\n",
    "from evaluate import load\n",
    "import os\n",
    "import re\n",
    "\n",
    "def clean_text(lines):\n",
    "    cleaned = []\n",
    "    for line in lines:\n",
    "        # Quitar tokens como <...> o <... ...> incluyendo los signos <>\n",
    "        line = re.sub(r\"<[^>]+>\", \"\", line)\n",
    "        # Quitar puntuación (pero conservar apóstrofes, guiones si deseas)\n",
    "        line = re.sub(r\"[.,;!?“”\\\"«»()\\[\\]…]\", \"\", line)\n",
    "        # Normalizar espacios\n",
    "        cleaned.append(line.strip())\n",
    "    return cleaned\n",
    "\n",
    "def load_text_from_alto(folder):\n",
    "    alto_files = sorted(f for f in os.listdir(folder) if f.endswith('.xml'))\n",
    "    text = []\n",
    "    for fn in alto_files:\n",
    "        with open(os.path.join(folder, fn), encoding='utf-8') as f:\n",
    "            content = f.read()\n",
    "            strings = re.findall(r'CONTENT=\"(.*?)\"', content)\n",
    "            text.extend(strings)\n",
    "    return text\n",
    "\n",
    "ground_truth_folder = \"manuscript_groundtruth\"\n",
    "corrected_folder    = \"manuscript_final_généraliste\"\n",
    "\n",
    "raw_ref = load_text_from_alto(ground_truth_folder)\n",
    "raw_cor = load_text_from_alto(corrected_folder)\n",
    "\n",
    "ref = clean_text(raw_ref)\n",
    "cor = clean_text(raw_cor)\n",
    "\n",
    "wer = load(\"wer\")\n",
    "cer = load(\"cer\")\n",
    "\n",
    "predictions = [\" \".join(cor)]\n",
    "references  = [\" \".join(ref)]\n",
    "\n",
    "wer_score = wer.compute(predictions=predictions, references=references)\n",
    "cer_score = cer.compute(predictions=predictions, references=references)\n",
    "\n",
    "print(\"Corrected vs Ground Truth:\")\n",
    "print(f\"WER: {wer_score}\")\n",
    "print(f\"CER: {cer_score}\")\n"
   ]
  },
  {
   "cell_type": "code",
   "execution_count": 49,
   "id": "4738f6cc-2d16-4fbb-b8e4-f523f9bf2f6e",
   "metadata": {},
   "outputs": [
    {
     "name": "stdout",
     "output_type": "stream",
     "text": [
      "HTR vs Ground Truth:\n",
      "WER: 0.8857539315448658\n",
      "CER: 0.46351158778969476\n"
     ]
    }
   ],
   "source": [
    "# Sans les mots barrés\n",
    "# HTR vs Ground Truth\n",
    "\n",
    "from evaluate import load\n",
    "import os\n",
    "import re\n",
    "\n",
    "def clean_text(lines):\n",
    "    cleaned = []\n",
    "    for line in lines:\n",
    "        # Quitar tokens como <...> o <... ...> incluyendo los signos <>\n",
    "        line = re.sub(r\"<[^>]+>\", \"\", line)\n",
    "        # Quitar puntuación (pero conservar apóstrofes, guiones si deseas)\n",
    "        line = re.sub(r\"[.,;!?“”\\\"«»()\\[\\]…]\", \"\", line)\n",
    "        # Normalizar espacios\n",
    "        cleaned.append(line.strip())\n",
    "    return cleaned\n",
    "\n",
    "def load_text_from_alto(folder):\n",
    "    alto_files = sorted(f for f in os.listdir(folder) if f.endswith('.xml'))\n",
    "    text = []\n",
    "    for fn in alto_files:\n",
    "        with open(os.path.join(folder, fn), encoding='utf-8') as f:\n",
    "            content = f.read()\n",
    "            strings = re.findall(r'CONTENT=\"(.*?)\"', content)\n",
    "            text.extend(strings)\n",
    "    return text\n",
    "\n",
    "ground_truth_folder = \"manuscript_groundtruth\"\n",
    "htr_folder          = \"manuscript_htr_généraliste\"\n",
    "\n",
    "raw_ref = load_text_from_alto(ground_truth_folder)\n",
    "raw_htr = load_text_from_alto(htr_folder)\n",
    "\n",
    "ref = clean_text(raw_ref)\n",
    "htr = clean_text(raw_htr)\n",
    "\n",
    "wer = load(\"wer\")\n",
    "cer = load(\"cer\")\n",
    "\n",
    "predictions = [\" \".join(htr)]\n",
    "references  = [\" \".join(ref)]\n",
    "\n",
    "wer_score = wer.compute(predictions=predictions, references=references)\n",
    "cer_score = cer.compute(predictions=predictions, references=references)\n",
    "\n",
    "print(\"HTR vs Ground Truth:\")\n",
    "print(f\"WER: {wer_score}\")\n",
    "print(f\"CER: {cer_score}\")"
   ]
  },
  {
   "cell_type": "code",
   "execution_count": 50,
   "id": "b6a9d4ac-ea3e-4ced-ab10-7258096d9875",
   "metadata": {},
   "outputs": [
    {
     "data": {
      "image/png": "[encoded data removed]",
      "text/plain": [
       "<Figure size 640x480 with 1 Axes>"
      ]
     },
     "metadata": {},
     "output_type": "display_data"
    }
   ],
   "source": [
    "# Graphic\n",
    "\n",
    "import matplotlib.pyplot as plt\n",
    "import numpy as np\n",
    "\n",
    "# Données\n",
    "methods = [\"Modèle finetuné\", \"Postcorrection\"]\n",
    "CER = [46.88, 36.02]\n",
    "WER = [88.55, 55.27]\n",
    "\n",
    "x = np.arange(len(methods))\n",
    "width = 0.35\n",
    "\n",
    "fig, ax = plt.subplots()\n",
    "ax.bar(x - width/2, CER, width, label=\"CER\")\n",
    "ax.bar(x + width/2, WER, width, label=\"WER\")\n",
    "\n",
    "ax.set_ylabel(\"Taux (%)\")\n",
    "ax.set_title(\"Résultats CER et WER du modèle généraliste (sans ratures)\")\n",
    "ax.set_xticks(x)\n",
    "ax.set_xticklabels(methods)\n",
    "ax.legend()\n",
    "\n",
    "plt.tight_layout()\n",
    "\n",
    "plt.savefig(\"cer_wer_gsr.png\", dpi=300, bbox_inches=\"tight\")\n",
    "\n",
    "plt.show()"
   ]
  },
  {
   "cell_type": "code",
   "execution_count": null,
   "id": "49a5d99e-11ac-400b-9201-df70932fdc6f",
   "metadata": {},
   "outputs": [],
   "source": [
    "\n",
    "\n",
    "\n"
   ]
  }
 ],
 "metadata": {
  "kernelspec": {
   "display_name": "Python 3 (ipykernel)",
   "language": "python",
   "name": "python3"
  },
  "language_info": {
   "codemirror_mode": {
    "name": "ipython",
    "version": 3
   },
   "file_extension": ".py",
   "mimetype": "text/x-python",
   "name": "python",
   "nbconvert_exporter": "python",
   "pygments_lexer": "ipython3",
   "version": "3.13.2"
  }
 },
 "nbformat": 4,
 "nbformat_minor": 5
}
